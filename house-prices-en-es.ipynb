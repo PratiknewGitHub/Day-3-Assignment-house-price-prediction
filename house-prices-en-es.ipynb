{
 "cells": [
  {
   "cell_type": "code",
   "execution_count": 1,
   "id": "7d0361f9",
   "metadata": {
    "_cell_guid": "b1076dfc-b9ad-4769-8c92-a6c4dae69d19",
    "_uuid": "8f2839f25d086af736a60e9eeb907d3b93b6e0e5",
    "execution": {
     "iopub.execute_input": "2022-08-22T10:42:09.606060Z",
     "iopub.status.busy": "2022-08-22T10:42:09.605556Z",
     "iopub.status.idle": "2022-08-22T10:42:12.026870Z",
     "shell.execute_reply": "2022-08-22T10:42:12.025516Z"
    },
    "papermill": {
     "duration": 2.437906,
     "end_time": "2022-08-22T10:42:12.030658",
     "exception": false,
     "start_time": "2022-08-22T10:42:09.592752",
     "status": "completed"
    },
    "tags": []
   },
   "outputs": [
    {
     "data": {
      "text/html": [
       "<style type='text/css'>\n",
       ".datatable table.frame { margin-bottom: 0; }\n",
       ".datatable table.frame thead { border-bottom: none; }\n",
       ".datatable table.frame tr.coltypes td {  color: #FFFFFF;  line-height: 6px;  padding: 0 0.5em;}\n",
       ".datatable .bool    { background: #DDDD99; }\n",
       ".datatable .object  { background: #565656; }\n",
       ".datatable .int     { background: #5D9E5D; }\n",
       ".datatable .float   { background: #4040CC; }\n",
       ".datatable .str     { background: #CC4040; }\n",
       ".datatable .time    { background: #40CC40; }\n",
       ".datatable .row_index {  background: var(--jp-border-color3);  border-right: 1px solid var(--jp-border-color0);  color: var(--jp-ui-font-color3);  font-size: 9px;}\n",
       ".datatable .frame tbody td { text-align: left; }\n",
       ".datatable .frame tr.coltypes .row_index {  background: var(--jp-border-color0);}\n",
       ".datatable th:nth-child(2) { padding-left: 12px; }\n",
       ".datatable .hellipsis {  color: var(--jp-cell-editor-border-color);}\n",
       ".datatable .vellipsis {  background: var(--jp-layout-color0);  color: var(--jp-cell-editor-border-color);}\n",
       ".datatable .na {  color: var(--jp-cell-editor-border-color);  font-size: 80%;}\n",
       ".datatable .sp {  opacity: 0.25;}\n",
       ".datatable .footer { font-size: 9px; }\n",
       ".datatable .frame_dimensions {  background: var(--jp-border-color3);  border-top: 1px solid var(--jp-border-color0);  color: var(--jp-ui-font-color3);  display: inline-block;  opacity: 0.6;  padding: 1px 10px 1px 5px;}\n",
       "</style>\n"
      ],
      "text/plain": [
       "<IPython.core.display.HTML object>"
      ]
     },
     "metadata": {},
     "output_type": "display_data"
    },
    {
     "name": "stdout",
     "output_type": "stream",
     "text": [
      "/kaggle/input/house-prices-advanced-regression-techniques/sample_submission.csv\n",
      "/kaggle/input/house-prices-advanced-regression-techniques/data_description.txt\n",
      "/kaggle/input/house-prices-advanced-regression-techniques/train.csv\n",
      "/kaggle/input/house-prices-advanced-regression-techniques/test.csv\n",
      "Done\n"
     ]
    }
   ],
   "source": [
    "import numpy as np \n",
    "import pandas as pd \n",
    "import seaborn as sns \n",
    "import matplotlib.pyplot as plt\n",
    "import matplotlib.gridspec as gridspec\n",
    "import os\n",
    "\n",
    "from sklearn.model_selection import train_test_split\n",
    "from xgboost import XGBRegressor\n",
    "from sklearn.ensemble import GradientBoostingRegressor\n",
    "from sklearn.model_selection import cross_val_score\n",
    "from sklearn.metrics import mean_squared_error\n",
    "from sklearn.metrics import accuracy_score\n",
    "from sklearn import metrics\n",
    "from sklearn.ensemble import RandomForestRegressor\n",
    "import lightgbm as lgb\n",
    "\n",
    "for dirname, _, filenames in os.walk('/kaggle/input'):\n",
    "    for filename in filenames:\n",
    "        print(os.path.join(dirname, filename))\n",
    "        \n",
    "print(\"Done\")"
   ]
  },
  {
   "cell_type": "markdown",
   "id": "c168d8bc",
   "metadata": {
    "papermill": {
     "duration": 0.009643,
     "end_time": "2022-08-22T10:42:12.050627",
     "exception": false,
     "start_time": "2022-08-22T10:42:12.040984",
     "status": "completed"
    },
    "tags": []
   },
   "source": [
    "# Constants 👨‍🎓"
   ]
  },
  {
   "cell_type": "code",
   "execution_count": 2,
   "id": "18ded473",
   "metadata": {
    "execution": {
     "iopub.execute_input": "2022-08-22T10:42:12.071370Z",
     "iopub.status.busy": "2022-08-22T10:42:12.070662Z",
     "iopub.status.idle": "2022-08-22T10:42:12.077910Z",
     "shell.execute_reply": "2022-08-22T10:42:12.076754Z"
    },
    "papermill": {
     "duration": 0.020212,
     "end_time": "2022-08-22T10:42:12.080248",
     "exception": false,
     "start_time": "2022-08-22T10:42:12.060036",
     "status": "completed"
    },
    "tags": []
   },
   "outputs": [],
   "source": [
    "PATH = \"../input/house-prices-advanced-regression-techniques\"\n",
    "TRAIN_PATH = os.path.join(PATH, \"train.csv\")\n",
    "TEST_PATH = os.path.join(PATH, \"test.csv\")\n",
    "SUBMISSION_PATH = os.path.join(PATH, \"sample_submission.csv\")\n",
    "\n",
    "SALE_PRICE = \"SalePrice\"\n",
    "LOT_AREA = \"LotArea\"\n",
    "OVERALL_QUAL = \"OverallQual\"\n",
    "GRLIVAREA = \"GrLivArea\"\n",
    "GARAGE_YR_BLT = \"GarageYrBlt\"\n",
    "MAS_VNR_AREA = \"MasVnrArea\"\t\n",
    "TOTAL_BSMT_SF = \"TotalBsmtSF\"\n",
    "GARAGE_CARS = \"GarageCars\"\n",
    "GARAGE_AREA = \"GarageArea\""
   ]
  },
  {
   "cell_type": "markdown",
   "id": "35f68ae9",
   "metadata": {
    "papermill": {
     "duration": 0.008873,
     "end_time": "2022-08-22T10:42:12.098500",
     "exception": false,
     "start_time": "2022-08-22T10:42:12.089627",
     "status": "completed"
    },
    "tags": []
   },
   "source": [
    "# Functions 🧮"
   ]
  },
  {
   "cell_type": "markdown",
   "id": "ca4202dc",
   "metadata": {
    "papermill": {
     "duration": 0.008985,
     "end_time": "2022-08-22T10:42:12.116639",
     "exception": false,
     "start_time": "2022-08-22T10:42:12.107654",
     "status": "completed"
    },
    "tags": []
   },
   "source": [
    "**🟦EN** Function that we use later to see the characteristics of the data such as missing values (NaN), all of features and number, records and columns\n",
    "\n",
    "**🟥ES** Función que usamos más tarde para ver las características de los datos, como valores faltantes (NaN), todas las características y el número, registros y columnas"
   ]
  },
  {
   "cell_type": "code",
   "execution_count": 3,
   "id": "800c1663",
   "metadata": {
    "execution": {
     "iopub.execute_input": "2022-08-22T10:42:12.136782Z",
     "iopub.status.busy": "2022-08-22T10:42:12.136367Z",
     "iopub.status.idle": "2022-08-22T10:42:12.144755Z",
     "shell.execute_reply": "2022-08-22T10:42:12.143572Z"
    },
    "papermill": {
     "duration": 0.021502,
     "end_time": "2022-08-22T10:42:12.147315",
     "exception": false,
     "start_time": "2022-08-22T10:42:12.125813",
     "status": "completed"
    },
    "tags": []
   },
   "outputs": [],
   "source": [
    "def data_description(df):\n",
    "    print(\"Data description\")\n",
    "    print(f\"Total number of records {df.shape[0]}\")\n",
    "    print(f'number of features {df.shape[1]}\\n\\n')\n",
    "    columns = df.columns\n",
    "    data_type = []\n",
    "    \n",
    "    # Get the datatype of features\n",
    "    for col in df.columns:\n",
    "        data_type.append(df[col].dtype)\n",
    "        \n",
    "    n_uni = df.nunique()\n",
    "    # Number of NaN values\n",
    "    n_miss = df.isna().sum()\n",
    "    \n",
    "    names = list(zip(columns, data_type, n_uni, n_miss))\n",
    "    variable_desc = pd.DataFrame(names, columns=[\"Name\",\"Type\",\"Unique levels\",\"Missing\"])\n",
    "    pd.set_option('display.max_rows', None)\n",
    "    print(variable_desc)"
   ]
  },
  {
   "cell_type": "code",
   "execution_count": 4,
   "id": "b7fde6b2",
   "metadata": {
    "execution": {
     "iopub.execute_input": "2022-08-22T10:42:12.167654Z",
     "iopub.status.busy": "2022-08-22T10:42:12.167212Z",
     "iopub.status.idle": "2022-08-22T10:42:12.174099Z",
     "shell.execute_reply": "2022-08-22T10:42:12.172721Z"
    },
    "papermill": {
     "duration": 0.019759,
     "end_time": "2022-08-22T10:42:12.176483",
     "exception": false,
     "start_time": "2022-08-22T10:42:12.156724",
     "status": "completed"
    },
    "tags": []
   },
   "outputs": [],
   "source": [
    "def show_regplot(df, col1, col2, title = \"\"): \n",
    "    plt.figure(figsize = (10, 5))\n",
    "    plt.title(title)\n",
    "    sns.regplot(data = df, x = col1, y = col2, line_kws={\"color\": \"green\"})"
   ]
  },
  {
   "cell_type": "code",
   "execution_count": 5,
   "id": "fc9dbec2",
   "metadata": {
    "execution": {
     "iopub.execute_input": "2022-08-22T10:42:12.198052Z",
     "iopub.status.busy": "2022-08-22T10:42:12.197623Z",
     "iopub.status.idle": "2022-08-22T10:42:12.204411Z",
     "shell.execute_reply": "2022-08-22T10:42:12.202840Z"
    },
    "papermill": {
     "duration": 0.019989,
     "end_time": "2022-08-22T10:42:12.206797",
     "exception": false,
     "start_time": "2022-08-22T10:42:12.186808",
     "status": "completed"
    },
    "tags": []
   },
   "outputs": [],
   "source": [
    "def show_missing_values(df):\n",
    "    nan_values = df.isnull().sum().sort_values(ascending = False)\n",
    "    percent = (df.isnull().sum() / df.count() * 100)\n",
    "    missing = pd.concat([nan_values, percent], keys = [\"Nan values\", \"%\"], axis = 1)\n",
    "    return missing"
   ]
  },
  {
   "cell_type": "markdown",
   "id": "7815b197",
   "metadata": {
    "papermill": {
     "duration": 0.009582,
     "end_time": "2022-08-22T10:42:12.226605",
     "exception": false,
     "start_time": "2022-08-22T10:42:12.217023",
     "status": "completed"
    },
    "tags": []
   },
   "source": [
    "# Data processing"
   ]
  },
  {
   "cell_type": "code",
   "execution_count": 6,
   "id": "3e449af0",
   "metadata": {
    "execution": {
     "iopub.execute_input": "2022-08-22T10:42:12.247192Z",
     "iopub.status.busy": "2022-08-22T10:42:12.246777Z",
     "iopub.status.idle": "2022-08-22T10:42:12.321684Z",
     "shell.execute_reply": "2022-08-22T10:42:12.320648Z"
    },
    "papermill": {
     "duration": 0.088338,
     "end_time": "2022-08-22T10:42:12.324449",
     "exception": false,
     "start_time": "2022-08-22T10:42:12.236111",
     "status": "completed"
    },
    "tags": []
   },
   "outputs": [],
   "source": [
    "train_data = pd.read_csv(TRAIN_PATH)\n",
    "test_data = pd.read_csv(TEST_PATH)\n",
    "submission_data = pd.read_csv(SUBMISSION_PATH)"
   ]
  },
  {
   "cell_type": "code",
   "execution_count": 7,
   "id": "aac51435",
   "metadata": {
    "execution": {
     "iopub.execute_input": "2022-08-22T10:42:12.345849Z",
     "iopub.status.busy": "2022-08-22T10:42:12.345018Z",
     "iopub.status.idle": "2022-08-22T10:42:12.381283Z",
     "shell.execute_reply": "2022-08-22T10:42:12.379860Z"
    },
    "papermill": {
     "duration": 0.049836,
     "end_time": "2022-08-22T10:42:12.383837",
     "exception": false,
     "start_time": "2022-08-22T10:42:12.334001",
     "status": "completed"
    },
    "tags": []
   },
   "outputs": [
    {
     "data": {
      "text/html": [
       "<div>\n",
       "<style scoped>\n",
       "    .dataframe tbody tr th:only-of-type {\n",
       "        vertical-align: middle;\n",
       "    }\n",
       "\n",
       "    .dataframe tbody tr th {\n",
       "        vertical-align: top;\n",
       "    }\n",
       "\n",
       "    .dataframe thead th {\n",
       "        text-align: right;\n",
       "    }\n",
       "</style>\n",
       "<table border=\"1\" class=\"dataframe\">\n",
       "  <thead>\n",
       "    <tr style=\"text-align: right;\">\n",
       "      <th></th>\n",
       "      <th>Id</th>\n",
       "      <th>MSSubClass</th>\n",
       "      <th>MSZoning</th>\n",
       "      <th>LotFrontage</th>\n",
       "      <th>LotArea</th>\n",
       "      <th>Street</th>\n",
       "      <th>Alley</th>\n",
       "      <th>LotShape</th>\n",
       "      <th>LandContour</th>\n",
       "      <th>Utilities</th>\n",
       "      <th>...</th>\n",
       "      <th>PoolArea</th>\n",
       "      <th>PoolQC</th>\n",
       "      <th>Fence</th>\n",
       "      <th>MiscFeature</th>\n",
       "      <th>MiscVal</th>\n",
       "      <th>MoSold</th>\n",
       "      <th>YrSold</th>\n",
       "      <th>SaleType</th>\n",
       "      <th>SaleCondition</th>\n",
       "      <th>SalePrice</th>\n",
       "    </tr>\n",
       "  </thead>\n",
       "  <tbody>\n",
       "    <tr>\n",
       "      <th>0</th>\n",
       "      <td>1</td>\n",
       "      <td>60</td>\n",
       "      <td>RL</td>\n",
       "      <td>65.0</td>\n",
       "      <td>8450</td>\n",
       "      <td>Pave</td>\n",
       "      <td>NaN</td>\n",
       "      <td>Reg</td>\n",
       "      <td>Lvl</td>\n",
       "      <td>AllPub</td>\n",
       "      <td>...</td>\n",
       "      <td>0</td>\n",
       "      <td>NaN</td>\n",
       "      <td>NaN</td>\n",
       "      <td>NaN</td>\n",
       "      <td>0</td>\n",
       "      <td>2</td>\n",
       "      <td>2008</td>\n",
       "      <td>WD</td>\n",
       "      <td>Normal</td>\n",
       "      <td>208500</td>\n",
       "    </tr>\n",
       "    <tr>\n",
       "      <th>1</th>\n",
       "      <td>2</td>\n",
       "      <td>20</td>\n",
       "      <td>RL</td>\n",
       "      <td>80.0</td>\n",
       "      <td>9600</td>\n",
       "      <td>Pave</td>\n",
       "      <td>NaN</td>\n",
       "      <td>Reg</td>\n",
       "      <td>Lvl</td>\n",
       "      <td>AllPub</td>\n",
       "      <td>...</td>\n",
       "      <td>0</td>\n",
       "      <td>NaN</td>\n",
       "      <td>NaN</td>\n",
       "      <td>NaN</td>\n",
       "      <td>0</td>\n",
       "      <td>5</td>\n",
       "      <td>2007</td>\n",
       "      <td>WD</td>\n",
       "      <td>Normal</td>\n",
       "      <td>181500</td>\n",
       "    </tr>\n",
       "    <tr>\n",
       "      <th>2</th>\n",
       "      <td>3</td>\n",
       "      <td>60</td>\n",
       "      <td>RL</td>\n",
       "      <td>68.0</td>\n",
       "      <td>11250</td>\n",
       "      <td>Pave</td>\n",
       "      <td>NaN</td>\n",
       "      <td>IR1</td>\n",
       "      <td>Lvl</td>\n",
       "      <td>AllPub</td>\n",
       "      <td>...</td>\n",
       "      <td>0</td>\n",
       "      <td>NaN</td>\n",
       "      <td>NaN</td>\n",
       "      <td>NaN</td>\n",
       "      <td>0</td>\n",
       "      <td>9</td>\n",
       "      <td>2008</td>\n",
       "      <td>WD</td>\n",
       "      <td>Normal</td>\n",
       "      <td>223500</td>\n",
       "    </tr>\n",
       "    <tr>\n",
       "      <th>3</th>\n",
       "      <td>4</td>\n",
       "      <td>70</td>\n",
       "      <td>RL</td>\n",
       "      <td>60.0</td>\n",
       "      <td>9550</td>\n",
       "      <td>Pave</td>\n",
       "      <td>NaN</td>\n",
       "      <td>IR1</td>\n",
       "      <td>Lvl</td>\n",
       "      <td>AllPub</td>\n",
       "      <td>...</td>\n",
       "      <td>0</td>\n",
       "      <td>NaN</td>\n",
       "      <td>NaN</td>\n",
       "      <td>NaN</td>\n",
       "      <td>0</td>\n",
       "      <td>2</td>\n",
       "      <td>2006</td>\n",
       "      <td>WD</td>\n",
       "      <td>Abnorml</td>\n",
       "      <td>140000</td>\n",
       "    </tr>\n",
       "    <tr>\n",
       "      <th>4</th>\n",
       "      <td>5</td>\n",
       "      <td>60</td>\n",
       "      <td>RL</td>\n",
       "      <td>84.0</td>\n",
       "      <td>14260</td>\n",
       "      <td>Pave</td>\n",
       "      <td>NaN</td>\n",
       "      <td>IR1</td>\n",
       "      <td>Lvl</td>\n",
       "      <td>AllPub</td>\n",
       "      <td>...</td>\n",
       "      <td>0</td>\n",
       "      <td>NaN</td>\n",
       "      <td>NaN</td>\n",
       "      <td>NaN</td>\n",
       "      <td>0</td>\n",
       "      <td>12</td>\n",
       "      <td>2008</td>\n",
       "      <td>WD</td>\n",
       "      <td>Normal</td>\n",
       "      <td>250000</td>\n",
       "    </tr>\n",
       "  </tbody>\n",
       "</table>\n",
       "<p>5 rows × 81 columns</p>\n",
       "</div>"
      ],
      "text/plain": [
       "   Id  MSSubClass MSZoning  LotFrontage  LotArea Street Alley LotShape  \\\n",
       "0   1          60       RL         65.0     8450   Pave   NaN      Reg   \n",
       "1   2          20       RL         80.0     9600   Pave   NaN      Reg   \n",
       "2   3          60       RL         68.0    11250   Pave   NaN      IR1   \n",
       "3   4          70       RL         60.0     9550   Pave   NaN      IR1   \n",
       "4   5          60       RL         84.0    14260   Pave   NaN      IR1   \n",
       "\n",
       "  LandContour Utilities  ... PoolArea PoolQC Fence MiscFeature MiscVal MoSold  \\\n",
       "0         Lvl    AllPub  ...        0    NaN   NaN         NaN       0      2   \n",
       "1         Lvl    AllPub  ...        0    NaN   NaN         NaN       0      5   \n",
       "2         Lvl    AllPub  ...        0    NaN   NaN         NaN       0      9   \n",
       "3         Lvl    AllPub  ...        0    NaN   NaN         NaN       0      2   \n",
       "4         Lvl    AllPub  ...        0    NaN   NaN         NaN       0     12   \n",
       "\n",
       "  YrSold  SaleType  SaleCondition  SalePrice  \n",
       "0   2008        WD         Normal     208500  \n",
       "1   2007        WD         Normal     181500  \n",
       "2   2008        WD         Normal     223500  \n",
       "3   2006        WD        Abnorml     140000  \n",
       "4   2008        WD         Normal     250000  \n",
       "\n",
       "[5 rows x 81 columns]"
      ]
     },
     "execution_count": 7,
     "metadata": {},
     "output_type": "execute_result"
    }
   ],
   "source": [
    "train_data.head()"
   ]
  },
  {
   "cell_type": "code",
   "execution_count": 8,
   "id": "23f5e097",
   "metadata": {
    "execution": {
     "iopub.execute_input": "2022-08-22T10:42:12.405253Z",
     "iopub.status.busy": "2022-08-22T10:42:12.404855Z",
     "iopub.status.idle": "2022-08-22T10:42:12.444027Z",
     "shell.execute_reply": "2022-08-22T10:42:12.442802Z"
    },
    "papermill": {
     "duration": 0.052975,
     "end_time": "2022-08-22T10:42:12.446662",
     "exception": false,
     "start_time": "2022-08-22T10:42:12.393687",
     "status": "completed"
    },
    "tags": []
   },
   "outputs": [
    {
     "name": "stdout",
     "output_type": "stream",
     "text": [
      "Data description\n",
      "Total number of records 1460\n",
      "number of features 81\n",
      "\n",
      "\n",
      "             Name     Type  Unique levels  Missing\n",
      "0              Id    int64           1460        0\n",
      "1      MSSubClass    int64             15        0\n",
      "2        MSZoning   object              5        0\n",
      "3     LotFrontage  float64            110      259\n",
      "4         LotArea    int64           1073        0\n",
      "5          Street   object              2        0\n",
      "6           Alley   object              2     1369\n",
      "7        LotShape   object              4        0\n",
      "8     LandContour   object              4        0\n",
      "9       Utilities   object              2        0\n",
      "10      LotConfig   object              5        0\n",
      "11      LandSlope   object              3        0\n",
      "12   Neighborhood   object             25        0\n",
      "13     Condition1   object              9        0\n",
      "14     Condition2   object              8        0\n",
      "15       BldgType   object              5        0\n",
      "16     HouseStyle   object              8        0\n",
      "17    OverallQual    int64             10        0\n",
      "18    OverallCond    int64              9        0\n",
      "19      YearBuilt    int64            112        0\n",
      "20   YearRemodAdd    int64             61        0\n",
      "21      RoofStyle   object              6        0\n",
      "22       RoofMatl   object              8        0\n",
      "23    Exterior1st   object             15        0\n",
      "24    Exterior2nd   object             16        0\n",
      "25     MasVnrType   object              4        8\n",
      "26     MasVnrArea  float64            327        8\n",
      "27      ExterQual   object              4        0\n",
      "28      ExterCond   object              5        0\n",
      "29     Foundation   object              6        0\n",
      "30       BsmtQual   object              4       37\n",
      "31       BsmtCond   object              4       37\n",
      "32   BsmtExposure   object              4       38\n",
      "33   BsmtFinType1   object              6       37\n",
      "34     BsmtFinSF1    int64            637        0\n",
      "35   BsmtFinType2   object              6       38\n",
      "36     BsmtFinSF2    int64            144        0\n",
      "37      BsmtUnfSF    int64            780        0\n",
      "38    TotalBsmtSF    int64            721        0\n",
      "39        Heating   object              6        0\n",
      "40      HeatingQC   object              5        0\n",
      "41     CentralAir   object              2        0\n",
      "42     Electrical   object              5        1\n",
      "43       1stFlrSF    int64            753        0\n",
      "44       2ndFlrSF    int64            417        0\n",
      "45   LowQualFinSF    int64             24        0\n",
      "46      GrLivArea    int64            861        0\n",
      "47   BsmtFullBath    int64              4        0\n",
      "48   BsmtHalfBath    int64              3        0\n",
      "49       FullBath    int64              4        0\n",
      "50       HalfBath    int64              3        0\n",
      "51   BedroomAbvGr    int64              8        0\n",
      "52   KitchenAbvGr    int64              4        0\n",
      "53    KitchenQual   object              4        0\n",
      "54   TotRmsAbvGrd    int64             12        0\n",
      "55     Functional   object              7        0\n",
      "56     Fireplaces    int64              4        0\n",
      "57    FireplaceQu   object              5      690\n",
      "58     GarageType   object              6       81\n",
      "59    GarageYrBlt  float64             97       81\n",
      "60   GarageFinish   object              3       81\n",
      "61     GarageCars    int64              5        0\n",
      "62     GarageArea    int64            441        0\n",
      "63     GarageQual   object              5       81\n",
      "64     GarageCond   object              5       81\n",
      "65     PavedDrive   object              3        0\n",
      "66     WoodDeckSF    int64            274        0\n",
      "67    OpenPorchSF    int64            202        0\n",
      "68  EnclosedPorch    int64            120        0\n",
      "69      3SsnPorch    int64             20        0\n",
      "70    ScreenPorch    int64             76        0\n",
      "71       PoolArea    int64              8        0\n",
      "72         PoolQC   object              3     1453\n",
      "73          Fence   object              4     1179\n",
      "74    MiscFeature   object              4     1406\n",
      "75        MiscVal    int64             21        0\n",
      "76         MoSold    int64             12        0\n",
      "77         YrSold    int64              5        0\n",
      "78       SaleType   object              9        0\n",
      "79  SaleCondition   object              6        0\n",
      "80      SalePrice    int64            663        0\n"
     ]
    }
   ],
   "source": [
    "data_description(train_data)"
   ]
  },
  {
   "cell_type": "code",
   "execution_count": 9,
   "id": "0dbbea15",
   "metadata": {
    "execution": {
     "iopub.execute_input": "2022-08-22T10:42:12.468615Z",
     "iopub.status.busy": "2022-08-22T10:42:12.467761Z",
     "iopub.status.idle": "2022-08-22T10:42:12.491732Z",
     "shell.execute_reply": "2022-08-22T10:42:12.490797Z"
    },
    "papermill": {
     "duration": 0.037231,
     "end_time": "2022-08-22T10:42:12.493900",
     "exception": false,
     "start_time": "2022-08-22T10:42:12.456669",
     "status": "completed"
    },
    "tags": []
   },
   "outputs": [
    {
     "data": {
      "text/html": [
       "<div>\n",
       "<style scoped>\n",
       "    .dataframe tbody tr th:only-of-type {\n",
       "        vertical-align: middle;\n",
       "    }\n",
       "\n",
       "    .dataframe tbody tr th {\n",
       "        vertical-align: top;\n",
       "    }\n",
       "\n",
       "    .dataframe thead th {\n",
       "        text-align: right;\n",
       "    }\n",
       "</style>\n",
       "<table border=\"1\" class=\"dataframe\">\n",
       "  <thead>\n",
       "    <tr style=\"text-align: right;\">\n",
       "      <th></th>\n",
       "      <th>Id</th>\n",
       "      <th>MSSubClass</th>\n",
       "      <th>MSZoning</th>\n",
       "      <th>LotFrontage</th>\n",
       "      <th>LotArea</th>\n",
       "      <th>Street</th>\n",
       "      <th>Alley</th>\n",
       "      <th>LotShape</th>\n",
       "      <th>LandContour</th>\n",
       "      <th>Utilities</th>\n",
       "      <th>...</th>\n",
       "      <th>ScreenPorch</th>\n",
       "      <th>PoolArea</th>\n",
       "      <th>PoolQC</th>\n",
       "      <th>Fence</th>\n",
       "      <th>MiscFeature</th>\n",
       "      <th>MiscVal</th>\n",
       "      <th>MoSold</th>\n",
       "      <th>YrSold</th>\n",
       "      <th>SaleType</th>\n",
       "      <th>SaleCondition</th>\n",
       "    </tr>\n",
       "  </thead>\n",
       "  <tbody>\n",
       "    <tr>\n",
       "      <th>0</th>\n",
       "      <td>1461</td>\n",
       "      <td>20</td>\n",
       "      <td>RH</td>\n",
       "      <td>80.0</td>\n",
       "      <td>11622</td>\n",
       "      <td>Pave</td>\n",
       "      <td>NaN</td>\n",
       "      <td>Reg</td>\n",
       "      <td>Lvl</td>\n",
       "      <td>AllPub</td>\n",
       "      <td>...</td>\n",
       "      <td>120</td>\n",
       "      <td>0</td>\n",
       "      <td>NaN</td>\n",
       "      <td>MnPrv</td>\n",
       "      <td>NaN</td>\n",
       "      <td>0</td>\n",
       "      <td>6</td>\n",
       "      <td>2010</td>\n",
       "      <td>WD</td>\n",
       "      <td>Normal</td>\n",
       "    </tr>\n",
       "    <tr>\n",
       "      <th>1</th>\n",
       "      <td>1462</td>\n",
       "      <td>20</td>\n",
       "      <td>RL</td>\n",
       "      <td>81.0</td>\n",
       "      <td>14267</td>\n",
       "      <td>Pave</td>\n",
       "      <td>NaN</td>\n",
       "      <td>IR1</td>\n",
       "      <td>Lvl</td>\n",
       "      <td>AllPub</td>\n",
       "      <td>...</td>\n",
       "      <td>0</td>\n",
       "      <td>0</td>\n",
       "      <td>NaN</td>\n",
       "      <td>NaN</td>\n",
       "      <td>Gar2</td>\n",
       "      <td>12500</td>\n",
       "      <td>6</td>\n",
       "      <td>2010</td>\n",
       "      <td>WD</td>\n",
       "      <td>Normal</td>\n",
       "    </tr>\n",
       "    <tr>\n",
       "      <th>2</th>\n",
       "      <td>1463</td>\n",
       "      <td>60</td>\n",
       "      <td>RL</td>\n",
       "      <td>74.0</td>\n",
       "      <td>13830</td>\n",
       "      <td>Pave</td>\n",
       "      <td>NaN</td>\n",
       "      <td>IR1</td>\n",
       "      <td>Lvl</td>\n",
       "      <td>AllPub</td>\n",
       "      <td>...</td>\n",
       "      <td>0</td>\n",
       "      <td>0</td>\n",
       "      <td>NaN</td>\n",
       "      <td>MnPrv</td>\n",
       "      <td>NaN</td>\n",
       "      <td>0</td>\n",
       "      <td>3</td>\n",
       "      <td>2010</td>\n",
       "      <td>WD</td>\n",
       "      <td>Normal</td>\n",
       "    </tr>\n",
       "    <tr>\n",
       "      <th>3</th>\n",
       "      <td>1464</td>\n",
       "      <td>60</td>\n",
       "      <td>RL</td>\n",
       "      <td>78.0</td>\n",
       "      <td>9978</td>\n",
       "      <td>Pave</td>\n",
       "      <td>NaN</td>\n",
       "      <td>IR1</td>\n",
       "      <td>Lvl</td>\n",
       "      <td>AllPub</td>\n",
       "      <td>...</td>\n",
       "      <td>0</td>\n",
       "      <td>0</td>\n",
       "      <td>NaN</td>\n",
       "      <td>NaN</td>\n",
       "      <td>NaN</td>\n",
       "      <td>0</td>\n",
       "      <td>6</td>\n",
       "      <td>2010</td>\n",
       "      <td>WD</td>\n",
       "      <td>Normal</td>\n",
       "    </tr>\n",
       "    <tr>\n",
       "      <th>4</th>\n",
       "      <td>1465</td>\n",
       "      <td>120</td>\n",
       "      <td>RL</td>\n",
       "      <td>43.0</td>\n",
       "      <td>5005</td>\n",
       "      <td>Pave</td>\n",
       "      <td>NaN</td>\n",
       "      <td>IR1</td>\n",
       "      <td>HLS</td>\n",
       "      <td>AllPub</td>\n",
       "      <td>...</td>\n",
       "      <td>144</td>\n",
       "      <td>0</td>\n",
       "      <td>NaN</td>\n",
       "      <td>NaN</td>\n",
       "      <td>NaN</td>\n",
       "      <td>0</td>\n",
       "      <td>1</td>\n",
       "      <td>2010</td>\n",
       "      <td>WD</td>\n",
       "      <td>Normal</td>\n",
       "    </tr>\n",
       "  </tbody>\n",
       "</table>\n",
       "<p>5 rows × 80 columns</p>\n",
       "</div>"
      ],
      "text/plain": [
       "     Id  MSSubClass MSZoning  LotFrontage  LotArea Street Alley LotShape  \\\n",
       "0  1461          20       RH         80.0    11622   Pave   NaN      Reg   \n",
       "1  1462          20       RL         81.0    14267   Pave   NaN      IR1   \n",
       "2  1463          60       RL         74.0    13830   Pave   NaN      IR1   \n",
       "3  1464          60       RL         78.0     9978   Pave   NaN      IR1   \n",
       "4  1465         120       RL         43.0     5005   Pave   NaN      IR1   \n",
       "\n",
       "  LandContour Utilities  ... ScreenPorch PoolArea PoolQC  Fence MiscFeature  \\\n",
       "0         Lvl    AllPub  ...         120        0    NaN  MnPrv         NaN   \n",
       "1         Lvl    AllPub  ...           0        0    NaN    NaN        Gar2   \n",
       "2         Lvl    AllPub  ...           0        0    NaN  MnPrv         NaN   \n",
       "3         Lvl    AllPub  ...           0        0    NaN    NaN         NaN   \n",
       "4         HLS    AllPub  ...         144        0    NaN    NaN         NaN   \n",
       "\n",
       "  MiscVal MoSold  YrSold  SaleType  SaleCondition  \n",
       "0       0      6    2010        WD         Normal  \n",
       "1   12500      6    2010        WD         Normal  \n",
       "2       0      3    2010        WD         Normal  \n",
       "3       0      6    2010        WD         Normal  \n",
       "4       0      1    2010        WD         Normal  \n",
       "\n",
       "[5 rows x 80 columns]"
      ]
     },
     "execution_count": 9,
     "metadata": {},
     "output_type": "execute_result"
    }
   ],
   "source": [
    "test_data.head()"
   ]
  },
  {
   "cell_type": "code",
   "execution_count": 10,
   "id": "fe6aaa39",
   "metadata": {
    "execution": {
     "iopub.execute_input": "2022-08-22T10:42:12.516939Z",
     "iopub.status.busy": "2022-08-22T10:42:12.516284Z",
     "iopub.status.idle": "2022-08-22T10:42:12.547554Z",
     "shell.execute_reply": "2022-08-22T10:42:12.546480Z"
    },
    "papermill": {
     "duration": 0.045793,
     "end_time": "2022-08-22T10:42:12.550252",
     "exception": false,
     "start_time": "2022-08-22T10:42:12.504459",
     "status": "completed"
    },
    "tags": []
   },
   "outputs": [
    {
     "name": "stdout",
     "output_type": "stream",
     "text": [
      "Data description\n",
      "Total number of records 1459\n",
      "number of features 80\n",
      "\n",
      "\n",
      "             Name     Type  Unique levels  Missing\n",
      "0              Id    int64           1459        0\n",
      "1      MSSubClass    int64             16        0\n",
      "2        MSZoning   object              5        4\n",
      "3     LotFrontage  float64            115      227\n",
      "4         LotArea    int64           1106        0\n",
      "5          Street   object              2        0\n",
      "6           Alley   object              2     1352\n",
      "7        LotShape   object              4        0\n",
      "8     LandContour   object              4        0\n",
      "9       Utilities   object              1        2\n",
      "10      LotConfig   object              5        0\n",
      "11      LandSlope   object              3        0\n",
      "12   Neighborhood   object             25        0\n",
      "13     Condition1   object              9        0\n",
      "14     Condition2   object              5        0\n",
      "15       BldgType   object              5        0\n",
      "16     HouseStyle   object              7        0\n",
      "17    OverallQual    int64             10        0\n",
      "18    OverallCond    int64              9        0\n",
      "19      YearBuilt    int64            106        0\n",
      "20   YearRemodAdd    int64             61        0\n",
      "21      RoofStyle   object              6        0\n",
      "22       RoofMatl   object              4        0\n",
      "23    Exterior1st   object             13        1\n",
      "24    Exterior2nd   object             15        1\n",
      "25     MasVnrType   object              4       16\n",
      "26     MasVnrArea  float64            303       15\n",
      "27      ExterQual   object              4        0\n",
      "28      ExterCond   object              5        0\n",
      "29     Foundation   object              6        0\n",
      "30       BsmtQual   object              4       44\n",
      "31       BsmtCond   object              4       45\n",
      "32   BsmtExposure   object              4       44\n",
      "33   BsmtFinType1   object              6       42\n",
      "34     BsmtFinSF1  float64            669        1\n",
      "35   BsmtFinType2   object              6       42\n",
      "36     BsmtFinSF2  float64            161        1\n",
      "37      BsmtUnfSF  float64            793        1\n",
      "38    TotalBsmtSF  float64            736        1\n",
      "39        Heating   object              4        0\n",
      "40      HeatingQC   object              5        0\n",
      "41     CentralAir   object              2        0\n",
      "42     Electrical   object              4        0\n",
      "43       1stFlrSF    int64            789        0\n",
      "44       2ndFlrSF    int64            407        0\n",
      "45   LowQualFinSF    int64             15        0\n",
      "46      GrLivArea    int64            879        0\n",
      "47   BsmtFullBath  float64              4        2\n",
      "48   BsmtHalfBath  float64              3        2\n",
      "49       FullBath    int64              5        0\n",
      "50       HalfBath    int64              3        0\n",
      "51   BedroomAbvGr    int64              7        0\n",
      "52   KitchenAbvGr    int64              3        0\n",
      "53    KitchenQual   object              4        1\n",
      "54   TotRmsAbvGrd    int64             12        0\n",
      "55     Functional   object              7        2\n",
      "56     Fireplaces    int64              5        0\n",
      "57    FireplaceQu   object              5      730\n",
      "58     GarageType   object              6       76\n",
      "59    GarageYrBlt  float64             97       78\n",
      "60   GarageFinish   object              3       78\n",
      "61     GarageCars  float64              6        1\n",
      "62     GarageArea  float64            459        1\n",
      "63     GarageQual   object              4       78\n",
      "64     GarageCond   object              5       78\n",
      "65     PavedDrive   object              3        0\n",
      "66     WoodDeckSF    int64            263        0\n",
      "67    OpenPorchSF    int64            203        0\n",
      "68  EnclosedPorch    int64            131        0\n",
      "69      3SsnPorch    int64             13        0\n",
      "70    ScreenPorch    int64             75        0\n",
      "71       PoolArea    int64              7        0\n",
      "72         PoolQC   object              2     1456\n",
      "73          Fence   object              4     1169\n",
      "74    MiscFeature   object              3     1408\n",
      "75        MiscVal    int64             26        0\n",
      "76         MoSold    int64             12        0\n",
      "77         YrSold    int64              5        0\n",
      "78       SaleType   object              9        1\n",
      "79  SaleCondition   object              6        0\n"
     ]
    }
   ],
   "source": [
    "data_description(test_data)"
   ]
  },
  {
   "cell_type": "code",
   "execution_count": 11,
   "id": "66f335ba",
   "metadata": {
    "execution": {
     "iopub.execute_input": "2022-08-22T10:42:12.572815Z",
     "iopub.status.busy": "2022-08-22T10:42:12.572365Z",
     "iopub.status.idle": "2022-08-22T10:42:12.891458Z",
     "shell.execute_reply": "2022-08-22T10:42:12.890351Z"
    },
    "papermill": {
     "duration": 0.332922,
     "end_time": "2022-08-22T10:42:12.893708",
     "exception": false,
     "start_time": "2022-08-22T10:42:12.560786",
     "status": "completed"
    },
    "tags": []
   },
   "outputs": [
    {
     "data": {
      "text/plain": [
       "<AxesSubplot:xlabel='SalePrice', ylabel='Count'>"
      ]
     },
     "execution_count": 11,
     "metadata": {},
     "output_type": "execute_result"
    },
    {
     "data": {
      "image/png": "[encoded data removed]",
      "text/plain": [
       "<Figure size 720x360 with 1 Axes>"
      ]
     },
     "metadata": {
      "needs_background": "light"
     },
     "output_type": "display_data"
    }
   ],
   "source": [
    "plt.figure(figsize = (10,5))\n",
    "sns.histplot(data = train_data, x = \"SalePrice\")"
   ]
  },
  {
   "cell_type": "code",
   "execution_count": 12,
   "id": "3c170a02",
   "metadata": {
    "execution": {
     "iopub.execute_input": "2022-08-22T10:42:12.917916Z",
     "iopub.status.busy": "2022-08-22T10:42:12.917271Z",
     "iopub.status.idle": "2022-08-22T10:42:13.297062Z",
     "shell.execute_reply": "2022-08-22T10:42:13.296177Z"
    },
    "papermill": {
     "duration": 0.394541,
     "end_time": "2022-08-22T10:42:13.299407",
     "exception": false,
     "start_time": "2022-08-22T10:42:12.904866",
     "status": "completed"
    },
    "tags": []
   },
   "outputs": [
    {
     "data": {
      "image/png": "[encoded data removed]",
      "text/plain": [
       "<Figure size 720x360 with 1 Axes>"
      ]
     },
     "metadata": {
      "needs_background": "light"
     },
     "output_type": "display_data"
    }
   ],
   "source": [
    "show_regplot(train_data, SALE_PRICE, LOT_AREA, \"Relation LotArea with SalePrice\")"
   ]
  },
  {
   "cell_type": "code",
   "execution_count": 13,
   "id": "c4039b8e",
   "metadata": {
    "execution": {
     "iopub.execute_input": "2022-08-22T10:42:13.324980Z",
     "iopub.status.busy": "2022-08-22T10:42:13.324343Z",
     "iopub.status.idle": "2022-08-22T10:42:14.052572Z",
     "shell.execute_reply": "2022-08-22T10:42:14.051160Z"
    },
    "papermill": {
     "duration": 0.74388,
     "end_time": "2022-08-22T10:42:14.054937",
     "exception": false,
     "start_time": "2022-08-22T10:42:13.311057",
     "status": "completed"
    },
    "tags": []
   },
   "outputs": [
    {
     "data": {
      "image/png": "[encoded data removed]",
      "text/plain": [
       "<Figure size 432x288 with 2 Axes>"
      ]
     },
     "metadata": {},
     "output_type": "display_data"
    }
   ],
   "source": [
    "correlation = train_data.corr()\n",
    "\n",
    "k = 10\n",
    "cols = correlation.nlargest(k, SALE_PRICE)[SALE_PRICE].index\n",
    "cm = np.corrcoef(train_data[cols].values.T)\n",
    "sns.set(font_scale=1.25)\n",
    "hm = sns.heatmap(cm, cbar=True, annot=True, fmt='.2f', annot_kws={'size': 8}, yticklabels=cols.values, xticklabels=cols.values)\n",
    "plt.show()\n"
   ]
  },
  {
   "cell_type": "code",
   "execution_count": 14,
   "id": "d61a66d3",
   "metadata": {
    "execution": {
     "iopub.execute_input": "2022-08-22T10:42:14.082812Z",
     "iopub.status.busy": "2022-08-22T10:42:14.081956Z",
     "iopub.status.idle": "2022-08-22T10:42:14.642896Z",
     "shell.execute_reply": "2022-08-22T10:42:14.641660Z"
    },
    "papermill": {
     "duration": 0.577657,
     "end_time": "2022-08-22T10:42:14.645634",
     "exception": false,
     "start_time": "2022-08-22T10:42:14.067977",
     "status": "completed"
    },
    "tags": []
   },
   "outputs": [
    {
     "data": {
      "image/png": "[encoded data removed]",
      "text/plain": [
       "<Figure size 720x360 with 1 Axes>"
      ]
     },
     "metadata": {},
     "output_type": "display_data"
    }
   ],
   "source": [
    "show_regplot(train_data, SALE_PRICE, OVERALL_QUAL, \"Overall_Qual LotArea with SalePrice\")"
   ]
  },
  {
   "cell_type": "code",
   "execution_count": 15,
   "id": "9ecf0102",
   "metadata": {
    "execution": {
     "iopub.execute_input": "2022-08-22T10:42:14.677355Z",
     "iopub.status.busy": "2022-08-22T10:42:14.676545Z",
     "iopub.status.idle": "2022-08-22T10:42:15.104319Z",
     "shell.execute_reply": "2022-08-22T10:42:15.102867Z"
    },
    "papermill": {
     "duration": 0.447428,
     "end_time": "2022-08-22T10:42:15.106944",
     "exception": false,
     "start_time": "2022-08-22T10:42:14.659516",
     "status": "completed"
    },
    "tags": []
   },
   "outputs": [
    {
     "data": {
      "image/png": "[encoded data removed]",
      "text/plain": [
       "<Figure size 720x360 with 1 Axes>"
      ]
     },
     "metadata": {},
     "output_type": "display_data"
    }
   ],
   "source": [
    "show_regplot(train_data, SALE_PRICE, GRLIVAREA, \"GrLivArea LotArea with SalePrice\")"
   ]
  },
  {
   "cell_type": "code",
   "execution_count": 16,
   "id": "cfc24ee7",
   "metadata": {
    "execution": {
     "iopub.execute_input": "2022-08-22T10:42:15.138992Z",
     "iopub.status.busy": "2022-08-22T10:42:15.138567Z",
     "iopub.status.idle": "2022-08-22T10:42:15.145961Z",
     "shell.execute_reply": "2022-08-22T10:42:15.144660Z"
    },
    "papermill": {
     "duration": 0.02605,
     "end_time": "2022-08-22T10:42:15.148399",
     "exception": false,
     "start_time": "2022-08-22T10:42:15.122349",
     "status": "completed"
    },
    "tags": []
   },
   "outputs": [
    {
     "name": "stdout",
     "output_type": "stream",
     "text": [
      "Index(['OverallQual', 'YearBuilt', 'YearRemodAdd', 'MasVnrArea', 'TotalBsmtSF',\n",
      "       '1stFlrSF', 'GrLivArea', 'FullBath', 'TotRmsAbvGrd', 'Fireplaces',\n",
      "       'GarageYrBlt', 'GarageCars', 'GarageArea', 'SalePrice'],\n",
      "      dtype='object')\n"
     ]
    }
   ],
   "source": [
    "index_corr = correlation[correlation[SALE_PRICE] > 0.4].index\n",
    "print(index_corr)"
   ]
  },
  {
   "cell_type": "code",
   "execution_count": 17,
   "id": "52ee88e4",
   "metadata": {
    "execution": {
     "iopub.execute_input": "2022-08-22T10:42:15.179492Z",
     "iopub.status.busy": "2022-08-22T10:42:15.179036Z",
     "iopub.status.idle": "2022-08-22T10:42:15.187764Z",
     "shell.execute_reply": "2022-08-22T10:42:15.186506Z"
    },
    "papermill": {
     "duration": 0.027032,
     "end_time": "2022-08-22T10:42:15.190012",
     "exception": false,
     "start_time": "2022-08-22T10:42:15.162980",
     "status": "completed"
    },
    "tags": []
   },
   "outputs": [
    {
     "name": "stdout",
     "output_type": "stream",
     "text": [
      "Done\n"
     ]
    }
   ],
   "source": [
    "train_data = train_data[index_corr]\n",
    "index_corr = index_corr.drop(SALE_PRICE)\n",
    "test_data = test_data[index_corr]\n",
    "print(\"Done\")"
   ]
  },
  {
   "cell_type": "code",
   "execution_count": 18,
   "id": "b0d02e86",
   "metadata": {
    "execution": {
     "iopub.execute_input": "2022-08-22T10:42:15.221432Z",
     "iopub.status.busy": "2022-08-22T10:42:15.220990Z",
     "iopub.status.idle": "2022-08-22T10:42:15.231834Z",
     "shell.execute_reply": "2022-08-22T10:42:15.230842Z"
    },
    "papermill": {
     "duration": 0.029316,
     "end_time": "2022-08-22T10:42:15.234175",
     "exception": false,
     "start_time": "2022-08-22T10:42:15.204859",
     "status": "completed"
    },
    "tags": []
   },
   "outputs": [],
   "source": [
    "train_missing = show_missing_values(train_data)"
   ]
  },
  {
   "cell_type": "code",
   "execution_count": 19,
   "id": "a5f456c5",
   "metadata": {
    "execution": {
     "iopub.execute_input": "2022-08-22T10:42:15.265570Z",
     "iopub.status.busy": "2022-08-22T10:42:15.264893Z",
     "iopub.status.idle": "2022-08-22T10:42:15.276648Z",
     "shell.execute_reply": "2022-08-22T10:42:15.275383Z"
    },
    "papermill": {
     "duration": 0.030157,
     "end_time": "2022-08-22T10:42:15.278933",
     "exception": false,
     "start_time": "2022-08-22T10:42:15.248776",
     "status": "completed"
    },
    "tags": []
   },
   "outputs": [
    {
     "data": {
      "text/html": [
       "<div>\n",
       "<style scoped>\n",
       "    .dataframe tbody tr th:only-of-type {\n",
       "        vertical-align: middle;\n",
       "    }\n",
       "\n",
       "    .dataframe tbody tr th {\n",
       "        vertical-align: top;\n",
       "    }\n",
       "\n",
       "    .dataframe thead th {\n",
       "        text-align: right;\n",
       "    }\n",
       "</style>\n",
       "<table border=\"1\" class=\"dataframe\">\n",
       "  <thead>\n",
       "    <tr style=\"text-align: right;\">\n",
       "      <th></th>\n",
       "      <th>Nan values</th>\n",
       "      <th>%</th>\n",
       "    </tr>\n",
       "  </thead>\n",
       "  <tbody>\n",
       "    <tr>\n",
       "      <th>GarageYrBlt</th>\n",
       "      <td>81</td>\n",
       "      <td>5.873822</td>\n",
       "    </tr>\n",
       "    <tr>\n",
       "      <th>MasVnrArea</th>\n",
       "      <td>8</td>\n",
       "      <td>0.550964</td>\n",
       "    </tr>\n",
       "    <tr>\n",
       "      <th>OverallQual</th>\n",
       "      <td>0</td>\n",
       "      <td>0.000000</td>\n",
       "    </tr>\n",
       "    <tr>\n",
       "      <th>YearBuilt</th>\n",
       "      <td>0</td>\n",
       "      <td>0.000000</td>\n",
       "    </tr>\n",
       "    <tr>\n",
       "      <th>YearRemodAdd</th>\n",
       "      <td>0</td>\n",
       "      <td>0.000000</td>\n",
       "    </tr>\n",
       "    <tr>\n",
       "      <th>TotalBsmtSF</th>\n",
       "      <td>0</td>\n",
       "      <td>0.000000</td>\n",
       "    </tr>\n",
       "    <tr>\n",
       "      <th>1stFlrSF</th>\n",
       "      <td>0</td>\n",
       "      <td>0.000000</td>\n",
       "    </tr>\n",
       "    <tr>\n",
       "      <th>GrLivArea</th>\n",
       "      <td>0</td>\n",
       "      <td>0.000000</td>\n",
       "    </tr>\n",
       "    <tr>\n",
       "      <th>FullBath</th>\n",
       "      <td>0</td>\n",
       "      <td>0.000000</td>\n",
       "    </tr>\n",
       "    <tr>\n",
       "      <th>TotRmsAbvGrd</th>\n",
       "      <td>0</td>\n",
       "      <td>0.000000</td>\n",
       "    </tr>\n",
       "    <tr>\n",
       "      <th>Fireplaces</th>\n",
       "      <td>0</td>\n",
       "      <td>0.000000</td>\n",
       "    </tr>\n",
       "    <tr>\n",
       "      <th>GarageCars</th>\n",
       "      <td>0</td>\n",
       "      <td>0.000000</td>\n",
       "    </tr>\n",
       "    <tr>\n",
       "      <th>GarageArea</th>\n",
       "      <td>0</td>\n",
       "      <td>0.000000</td>\n",
       "    </tr>\n",
       "    <tr>\n",
       "      <th>SalePrice</th>\n",
       "      <td>0</td>\n",
       "      <td>0.000000</td>\n",
       "    </tr>\n",
       "  </tbody>\n",
       "</table>\n",
       "</div>"
      ],
      "text/plain": [
       "              Nan values         %\n",
       "GarageYrBlt           81  5.873822\n",
       "MasVnrArea             8  0.550964\n",
       "OverallQual            0  0.000000\n",
       "YearBuilt              0  0.000000\n",
       "YearRemodAdd           0  0.000000\n",
       "TotalBsmtSF            0  0.000000\n",
       "1stFlrSF               0  0.000000\n",
       "GrLivArea              0  0.000000\n",
       "FullBath               0  0.000000\n",
       "TotRmsAbvGrd           0  0.000000\n",
       "Fireplaces             0  0.000000\n",
       "GarageCars             0  0.000000\n",
       "GarageArea             0  0.000000\n",
       "SalePrice              0  0.000000"
      ]
     },
     "execution_count": 19,
     "metadata": {},
     "output_type": "execute_result"
    }
   ],
   "source": [
    "train_missing.head(15)"
   ]
  },
  {
   "cell_type": "code",
   "execution_count": 20,
   "id": "0d559ca8",
   "metadata": {
    "execution": {
     "iopub.execute_input": "2022-08-22T10:42:15.310824Z",
     "iopub.status.busy": "2022-08-22T10:42:15.310424Z",
     "iopub.status.idle": "2022-08-22T10:42:15.327544Z",
     "shell.execute_reply": "2022-08-22T10:42:15.326686Z"
    },
    "papermill": {
     "duration": 0.035696,
     "end_time": "2022-08-22T10:42:15.329648",
     "exception": false,
     "start_time": "2022-08-22T10:42:15.293952",
     "status": "completed"
    },
    "tags": []
   },
   "outputs": [
    {
     "data": {
      "text/html": [
       "<div>\n",
       "<style scoped>\n",
       "    .dataframe tbody tr th:only-of-type {\n",
       "        vertical-align: middle;\n",
       "    }\n",
       "\n",
       "    .dataframe tbody tr th {\n",
       "        vertical-align: top;\n",
       "    }\n",
       "\n",
       "    .dataframe thead th {\n",
       "        text-align: right;\n",
       "    }\n",
       "</style>\n",
       "<table border=\"1\" class=\"dataframe\">\n",
       "  <thead>\n",
       "    <tr style=\"text-align: right;\">\n",
       "      <th></th>\n",
       "      <th>Nan values</th>\n",
       "      <th>%</th>\n",
       "    </tr>\n",
       "  </thead>\n",
       "  <tbody>\n",
       "    <tr>\n",
       "      <th>GarageYrBlt</th>\n",
       "      <td>78</td>\n",
       "      <td>5.648081</td>\n",
       "    </tr>\n",
       "    <tr>\n",
       "      <th>MasVnrArea</th>\n",
       "      <td>15</td>\n",
       "      <td>1.038781</td>\n",
       "    </tr>\n",
       "    <tr>\n",
       "      <th>TotalBsmtSF</th>\n",
       "      <td>1</td>\n",
       "      <td>0.068587</td>\n",
       "    </tr>\n",
       "    <tr>\n",
       "      <th>GarageCars</th>\n",
       "      <td>1</td>\n",
       "      <td>0.068587</td>\n",
       "    </tr>\n",
       "    <tr>\n",
       "      <th>GarageArea</th>\n",
       "      <td>1</td>\n",
       "      <td>0.068587</td>\n",
       "    </tr>\n",
       "    <tr>\n",
       "      <th>OverallQual</th>\n",
       "      <td>0</td>\n",
       "      <td>0.000000</td>\n",
       "    </tr>\n",
       "    <tr>\n",
       "      <th>YearBuilt</th>\n",
       "      <td>0</td>\n",
       "      <td>0.000000</td>\n",
       "    </tr>\n",
       "    <tr>\n",
       "      <th>YearRemodAdd</th>\n",
       "      <td>0</td>\n",
       "      <td>0.000000</td>\n",
       "    </tr>\n",
       "    <tr>\n",
       "      <th>1stFlrSF</th>\n",
       "      <td>0</td>\n",
       "      <td>0.000000</td>\n",
       "    </tr>\n",
       "    <tr>\n",
       "      <th>GrLivArea</th>\n",
       "      <td>0</td>\n",
       "      <td>0.000000</td>\n",
       "    </tr>\n",
       "    <tr>\n",
       "      <th>FullBath</th>\n",
       "      <td>0</td>\n",
       "      <td>0.000000</td>\n",
       "    </tr>\n",
       "    <tr>\n",
       "      <th>TotRmsAbvGrd</th>\n",
       "      <td>0</td>\n",
       "      <td>0.000000</td>\n",
       "    </tr>\n",
       "    <tr>\n",
       "      <th>Fireplaces</th>\n",
       "      <td>0</td>\n",
       "      <td>0.000000</td>\n",
       "    </tr>\n",
       "  </tbody>\n",
       "</table>\n",
       "</div>"
      ],
      "text/plain": [
       "              Nan values         %\n",
       "GarageYrBlt           78  5.648081\n",
       "MasVnrArea            15  1.038781\n",
       "TotalBsmtSF            1  0.068587\n",
       "GarageCars             1  0.068587\n",
       "GarageArea             1  0.068587\n",
       "OverallQual            0  0.000000\n",
       "YearBuilt              0  0.000000\n",
       "YearRemodAdd           0  0.000000\n",
       "1stFlrSF               0  0.000000\n",
       "GrLivArea              0  0.000000\n",
       "FullBath               0  0.000000\n",
       "TotRmsAbvGrd           0  0.000000\n",
       "Fireplaces             0  0.000000"
      ]
     },
     "execution_count": 20,
     "metadata": {},
     "output_type": "execute_result"
    }
   ],
   "source": [
    "test_missing = show_missing_values(test_data)\n",
    "test_missing.head(15)"
   ]
  },
  {
   "cell_type": "code",
   "execution_count": 21,
   "id": "1de7c209",
   "metadata": {
    "execution": {
     "iopub.execute_input": "2022-08-22T10:42:15.362120Z",
     "iopub.status.busy": "2022-08-22T10:42:15.361016Z",
     "iopub.status.idle": "2022-08-22T10:42:15.368909Z",
     "shell.execute_reply": "2022-08-22T10:42:15.367723Z"
    },
    "papermill": {
     "duration": 0.026914,
     "end_time": "2022-08-22T10:42:15.371649",
     "exception": false,
     "start_time": "2022-08-22T10:42:15.344735",
     "status": "completed"
    },
    "tags": []
   },
   "outputs": [
    {
     "name": "stdout",
     "output_type": "stream",
     "text": [
      "float64\n",
      "0    2003.0\n",
      "1    1976.0\n",
      "2    2001.0\n",
      "3    1998.0\n",
      "4    2000.0\n",
      "5    1993.0\n",
      "6    2004.0\n",
      "7    1973.0\n",
      "8    1931.0\n",
      "9    1939.0\n",
      "Name: GarageYrBlt, dtype: float64\n"
     ]
    }
   ],
   "source": [
    "print(train_data[GARAGE_YR_BLT].dtype)\n",
    "print(train_data[GARAGE_YR_BLT][:10])"
   ]
  },
  {
   "cell_type": "code",
   "execution_count": 22,
   "id": "17887632",
   "metadata": {
    "execution": {
     "iopub.execute_input": "2022-08-22T10:42:15.404571Z",
     "iopub.status.busy": "2022-08-22T10:42:15.403814Z",
     "iopub.status.idle": "2022-08-22T10:42:15.412888Z",
     "shell.execute_reply": "2022-08-22T10:42:15.411845Z"
    },
    "papermill": {
     "duration": 0.027497,
     "end_time": "2022-08-22T10:42:15.415085",
     "exception": false,
     "start_time": "2022-08-22T10:42:15.387588",
     "status": "completed"
    },
    "tags": []
   },
   "outputs": [],
   "source": [
    "train_data[GARAGE_YR_BLT] = train_data[GARAGE_YR_BLT].fillna(train_data[GARAGE_YR_BLT].mean())\n",
    "test_data[GARAGE_YR_BLT] = test_data[GARAGE_YR_BLT].fillna(test_data[GARAGE_YR_BLT].mean())\n",
    "\n",
    "train_data[MAS_VNR_AREA] = train_data[MAS_VNR_AREA].fillna(train_data[MAS_VNR_AREA].mean())\n",
    "test_data[MAS_VNR_AREA] = test_data[MAS_VNR_AREA].fillna(test_data[MAS_VNR_AREA].mean())"
   ]
  },
  {
   "cell_type": "code",
   "execution_count": 23,
   "id": "c1afa51e",
   "metadata": {
    "execution": {
     "iopub.execute_input": "2022-08-22T10:42:15.447068Z",
     "iopub.status.busy": "2022-08-22T10:42:15.446128Z",
     "iopub.status.idle": "2022-08-22T10:42:15.457465Z",
     "shell.execute_reply": "2022-08-22T10:42:15.456355Z"
    },
    "papermill": {
     "duration": 0.029904,
     "end_time": "2022-08-22T10:42:15.459956",
     "exception": false,
     "start_time": "2022-08-22T10:42:15.430052",
     "status": "completed"
    },
    "tags": []
   },
   "outputs": [
    {
     "name": "stdout",
     "output_type": "stream",
     "text": [
      "OverallQual     0\n",
      "YearBuilt       0\n",
      "YearRemodAdd    0\n",
      "MasVnrArea      0\n",
      "TotalBsmtSF     0\n",
      "1stFlrSF        0\n",
      "GrLivArea       0\n",
      "FullBath        0\n",
      "TotRmsAbvGrd    0\n",
      "Fireplaces      0\n",
      "GarageYrBlt     0\n",
      "GarageCars      0\n",
      "GarageArea      0\n",
      "dtype: int64\n"
     ]
    }
   ],
   "source": [
    "test_data[TOTAL_BSMT_SF] = test_data[TOTAL_BSMT_SF].fillna(test_data[TOTAL_BSMT_SF].mean())\n",
    "test_data[GARAGE_CARS] = test_data[GARAGE_CARS].fillna(test_data[GARAGE_CARS].mean())\n",
    "test_data[GARAGE_AREA] = test_data[GARAGE_AREA].fillna(test_data[GARAGE_AREA].mean())\n",
    "print(test_data.isna().sum())"
   ]
  },
  {
   "cell_type": "markdown",
   "id": "f6d272fd",
   "metadata": {
    "papermill": {
     "duration": 0.014849,
     "end_time": "2022-08-22T10:42:15.490347",
     "exception": false,
     "start_time": "2022-08-22T10:42:15.475498",
     "status": "completed"
    },
    "tags": []
   },
   "source": [
    "# Train 🧠"
   ]
  },
  {
   "cell_type": "code",
   "execution_count": 24,
   "id": "6af370be",
   "metadata": {
    "execution": {
     "iopub.execute_input": "2022-08-22T10:42:15.522952Z",
     "iopub.status.busy": "2022-08-22T10:42:15.521977Z",
     "iopub.status.idle": "2022-08-22T10:42:15.528184Z",
     "shell.execute_reply": "2022-08-22T10:42:15.526649Z"
    },
    "papermill": {
     "duration": 0.02504,
     "end_time": "2022-08-22T10:42:15.530560",
     "exception": false,
     "start_time": "2022-08-22T10:42:15.505520",
     "status": "completed"
    },
    "tags": []
   },
   "outputs": [
    {
     "name": "stdout",
     "output_type": "stream",
     "text": [
      "Index(['OverallQual', 'YearBuilt', 'YearRemodAdd', 'MasVnrArea', 'TotalBsmtSF',\n",
      "       '1stFlrSF', 'GrLivArea', 'FullBath', 'TotRmsAbvGrd', 'Fireplaces',\n",
      "       'GarageYrBlt', 'GarageCars', 'GarageArea', 'SalePrice'],\n",
      "      dtype='object')\n",
      "(1460, 14)\n"
     ]
    }
   ],
   "source": [
    "print(train_data.columns)\n",
    "print(train_data.shape)"
   ]
  },
  {
   "cell_type": "code",
   "execution_count": 25,
   "id": "3a40e841",
   "metadata": {
    "execution": {
     "iopub.execute_input": "2022-08-22T10:42:15.564333Z",
     "iopub.status.busy": "2022-08-22T10:42:15.563549Z",
     "iopub.status.idle": "2022-08-22T10:42:15.571802Z",
     "shell.execute_reply": "2022-08-22T10:42:15.570318Z"
    },
    "papermill": {
     "duration": 0.028518,
     "end_time": "2022-08-22T10:42:15.575258",
     "exception": false,
     "start_time": "2022-08-22T10:42:15.546740",
     "status": "completed"
    },
    "tags": []
   },
   "outputs": [
    {
     "name": "stdout",
     "output_type": "stream",
     "text": [
      "Done\n"
     ]
    }
   ],
   "source": [
    "X = train_data.copy()\n",
    "X.drop(SALE_PRICE, axis = 1, inplace = True)\n",
    "Y = train_data.SalePrice.values\n",
    "\n",
    "print(\"Done\")"
   ]
  },
  {
   "cell_type": "code",
   "execution_count": 26,
   "id": "82c006b4",
   "metadata": {
    "execution": {
     "iopub.execute_input": "2022-08-22T10:42:15.608884Z",
     "iopub.status.busy": "2022-08-22T10:42:15.607900Z",
     "iopub.status.idle": "2022-08-22T10:42:15.615384Z",
     "shell.execute_reply": "2022-08-22T10:42:15.614029Z"
    },
    "papermill": {
     "duration": 0.026522,
     "end_time": "2022-08-22T10:42:15.617843",
     "exception": false,
     "start_time": "2022-08-22T10:42:15.591321",
     "status": "completed"
    },
    "tags": []
   },
   "outputs": [
    {
     "name": "stdout",
     "output_type": "stream",
     "text": [
      "Done\n"
     ]
    }
   ],
   "source": [
    "X_train, X_val, Y_train, Y_val = train_test_split(X, Y, test_size = 0.2)\n",
    "\n",
    "print(\"Done\")"
   ]
  },
  {
   "cell_type": "code",
   "execution_count": 27,
   "id": "ec700b53",
   "metadata": {
    "execution": {
     "iopub.execute_input": "2022-08-22T10:42:15.651519Z",
     "iopub.status.busy": "2022-08-22T10:42:15.650784Z",
     "iopub.status.idle": "2022-08-22T10:42:15.655397Z",
     "shell.execute_reply": "2022-08-22T10:42:15.654507Z"
    },
    "papermill": {
     "duration": 0.023902,
     "end_time": "2022-08-22T10:42:15.657582",
     "exception": false,
     "start_time": "2022-08-22T10:42:15.633680",
     "status": "completed"
    },
    "tags": []
   },
   "outputs": [],
   "source": [
    "param = {'n_estimators': 150, 'max_depth': 5, 'min_samples_split': 2,\n",
    "          'learning_rate': 0.05, 'loss': 'ls'}"
   ]
  },
  {
   "cell_type": "code",
   "execution_count": 28,
   "id": "6a1f2950",
   "metadata": {
    "execution": {
     "iopub.execute_input": "2022-08-22T10:42:15.691459Z",
     "iopub.status.busy": "2022-08-22T10:42:15.690713Z",
     "iopub.status.idle": "2022-08-22T10:42:15.697743Z",
     "shell.execute_reply": "2022-08-22T10:42:15.696840Z"
    },
    "papermill": {
     "duration": 0.026864,
     "end_time": "2022-08-22T10:42:15.700145",
     "exception": false,
     "start_time": "2022-08-22T10:42:15.673281",
     "status": "completed"
    },
    "tags": []
   },
   "outputs": [],
   "source": [
    "xg_reg = XGBRegressor(objective ='reg:linear', colsample_bytree = 0.3, learning_rate = 0.1,\n",
    "                max_depth = 5, alpha = 10, n_estimators = 10)\n",
    "\n",
    "gb_reg = GradientBoostingRegressor(**param)\n",
    "\n",
    "rfr = RandomForestRegressor(n_estimators = 100, random_state = 0)\n",
    "\n",
    "model_lgb = lgb.LGBMRegressor(objective='regression',num_leaves=5,\n",
    "                              learning_rate=0.1, n_estimators=500,\n",
    "                              max_bin = 55, bagging_fraction = 0.8,\n",
    "                              bagging_freq = 5, feature_fraction = 0.2319,\n",
    "                              feature_fraction_seed=9, bagging_seed=9,\n",
    "                              min_data_in_leaf =6, min_sum_hessian_in_leaf = 11)"
   ]
  },
  {
   "cell_type": "code",
   "execution_count": 29,
   "id": "5bd16b37",
   "metadata": {
    "execution": {
     "iopub.execute_input": "2022-08-22T10:42:15.733515Z",
     "iopub.status.busy": "2022-08-22T10:42:15.732798Z",
     "iopub.status.idle": "2022-08-22T10:42:15.738051Z",
     "shell.execute_reply": "2022-08-22T10:42:15.736820Z"
    },
    "papermill": {
     "duration": 0.024431,
     "end_time": "2022-08-22T10:42:15.740321",
     "exception": false,
     "start_time": "2022-08-22T10:42:15.715890",
     "status": "completed"
    },
    "tags": []
   },
   "outputs": [],
   "source": [
    "classifiers = [\n",
    "    # ('DecisionTreeRegressor', dtreg),\n",
    "    ('Gradient Boosting Regression', gb_reg),\n",
    "    ('XGBRegressor', xg_reg),\n",
    "    # ('Lasso',lasso),\n",
    "    ('RandomForestRegressor', rfr),\n",
    "    # ('Support Vector Machine Regression', svr),\n",
    "    ('LightGBM',model_lgb)\n",
    "]"
   ]
  },
  {
   "cell_type": "code",
   "execution_count": 30,
   "id": "28b856cf",
   "metadata": {
    "execution": {
     "iopub.execute_input": "2022-08-22T10:42:15.773313Z",
     "iopub.status.busy": "2022-08-22T10:42:15.772870Z",
     "iopub.status.idle": "2022-08-22T10:42:17.273088Z",
     "shell.execute_reply": "2022-08-22T10:42:17.271921Z"
    },
    "papermill": {
     "duration": 1.520212,
     "end_time": "2022-08-22T10:42:17.276166",
     "exception": false,
     "start_time": "2022-08-22T10:42:15.755954",
     "status": "completed"
    },
    "tags": []
   },
   "outputs": [
    {
     "name": "stderr",
     "output_type": "stream",
     "text": [
      "/opt/conda/lib/python3.7/site-packages/sklearn/ensemble/_gb.py:290: FutureWarning: The loss 'ls' was deprecated in v1.0 and will be removed in version 1.2. Use 'squared_error' which is equivalent.\n",
      "  FutureWarning,\n"
     ]
    },
    {
     "name": "stdout",
     "output_type": "stream",
     "text": [
      "Gradient Boosting Regression MSE : 865126754.135\n",
      "[10:42:16] WARNING: ../src/objective/regression_obj.cu:203: reg:linear is now deprecated in favor of reg:squarederror.\n",
      "XGBRegressor MSE : 6621942981.899\n",
      "RandomForestRegressor MSE : 1154967312.764\n",
      "[LightGBM] [Warning] feature_fraction is set=0.2319, colsample_bytree=1.0 will be ignored. Current value: feature_fraction=0.2319\n",
      "[LightGBM] [Warning] min_sum_hessian_in_leaf is set=11, min_child_weight=0.001 will be ignored. Current value: min_sum_hessian_in_leaf=11\n",
      "[LightGBM] [Warning] min_data_in_leaf is set=6, min_child_samples=20 will be ignored. Current value: min_data_in_leaf=6\n",
      "[LightGBM] [Warning] bagging_freq is set=5, subsample_freq=0 will be ignored. Current value: bagging_freq=5\n",
      "[LightGBM] [Warning] bagging_fraction is set=0.8, subsample=1.0 will be ignored. Current value: bagging_fraction=0.8\n",
      "LightGBM MSE : 1357285975.133\n"
     ]
    }
   ],
   "source": [
    "for met_name, met in classifiers:\n",
    "    met.fit(X_train, Y_train)\n",
    "    \n",
    "    pred = met.predict(X_val)\n",
    "    pred = pred.reshape(-1,1)\n",
    "    \n",
    "    error = metrics.mean_squared_error(Y_val, pred)\n",
    "    \n",
    "    print('{:s} MSE : {:.3f}'.format(met_name, error))"
   ]
  },
  {
   "cell_type": "markdown",
   "id": "888b99af",
   "metadata": {
    "papermill": {
     "duration": 0.015062,
     "end_time": "2022-08-22T10:42:17.306735",
     "exception": false,
     "start_time": "2022-08-22T10:42:17.291673",
     "status": "completed"
    },
    "tags": []
   },
   "source": [
    "# Submission 📩"
   ]
  },
  {
   "cell_type": "code",
   "execution_count": 31,
   "id": "a98dc74d",
   "metadata": {
    "execution": {
     "iopub.execute_input": "2022-08-22T10:42:17.340546Z",
     "iopub.status.busy": "2022-08-22T10:42:17.339844Z",
     "iopub.status.idle": "2022-08-22T10:42:17.358704Z",
     "shell.execute_reply": "2022-08-22T10:42:17.357655Z"
    },
    "papermill": {
     "duration": 0.039023,
     "end_time": "2022-08-22T10:42:17.361392",
     "exception": false,
     "start_time": "2022-08-22T10:42:17.322369",
     "status": "completed"
    },
    "tags": []
   },
   "outputs": [],
   "source": [
    "pred_submission = model_lgb.predict(test_data)"
   ]
  },
  {
   "cell_type": "code",
   "execution_count": 32,
   "id": "a9fa1cf5",
   "metadata": {
    "execution": {
     "iopub.execute_input": "2022-08-22T10:42:17.395198Z",
     "iopub.status.busy": "2022-08-22T10:42:17.394444Z",
     "iopub.status.idle": "2022-08-22T10:42:17.399326Z",
     "shell.execute_reply": "2022-08-22T10:42:17.398493Z"
    },
    "papermill": {
     "duration": 0.024333,
     "end_time": "2022-08-22T10:42:17.401498",
     "exception": false,
     "start_time": "2022-08-22T10:42:17.377165",
     "status": "completed"
    },
    "tags": []
   },
   "outputs": [],
   "source": [
    "submission_data[SALE_PRICE] = pred_submission"
   ]
  },
  {
   "cell_type": "code",
   "execution_count": 33,
   "id": "412e8862",
   "metadata": {
    "execution": {
     "iopub.execute_input": "2022-08-22T10:42:17.434760Z",
     "iopub.status.busy": "2022-08-22T10:42:17.433993Z",
     "iopub.status.idle": "2022-08-22T10:42:17.445453Z",
     "shell.execute_reply": "2022-08-22T10:42:17.444327Z"
    },
    "papermill": {
     "duration": 0.031102,
     "end_time": "2022-08-22T10:42:17.448127",
     "exception": false,
     "start_time": "2022-08-22T10:42:17.417025",
     "status": "completed"
    },
    "tags": []
   },
   "outputs": [],
   "source": [
    "submission_data.to_csv(\"submission.csv\", index = False)"
   ]
  }
 ],
 "metadata": {
  "kernelspec": {
   "display_name": "Python 3",
   "language": "python",
   "name": "python3"
  },
  "language_info": {
   "codemirror_mode": {
    "name": "ipython",
    "version": 3
   },
   "file_extension": ".py",
   "mimetype": "text/x-python",
   "name": "python",
   "nbconvert_exporter": "python",
   "pygments_lexer": "ipython3",
   "version": "3.7.12"
  },
  "papermill": {
   "default_parameters": {},
   "duration": 18.499569,
   "end_time": "2022-08-22T10:42:18.286104",
   "environment_variables": {},
   "exception": null,
   "input_path": "__notebook__.ipynb",
   "output_path": "__notebook__.ipynb",
   "parameters": {},
   "start_time": "2022-08-22T10:41:59.786535",
   "version": "2.3.4"
  }
 },
 "nbformat": 4,
 "nbformat_minor": 5
}
